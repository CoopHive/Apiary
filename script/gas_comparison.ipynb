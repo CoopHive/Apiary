{
 "cells": [
  {
   "cell_type": "code",
   "execution_count": 17,
   "metadata": {},
   "outputs": [],
   "source": [
    "from apiary import apiars"
   ]
  },
  {
   "cell_type": "code",
   "execution_count": 18,
   "metadata": {},
   "outputs": [],
   "source": [
    "priv_key = \"0202ea5001ba9d11e8fecb4a3a943fbaa4a1068821e35533bd2161e76d333811\""
   ]
  },
  {
   "cell_type": "code",
   "execution_count": 19,
   "metadata": {},
   "outputs": [],
   "source": [
    "tokens_data = [\n",
    "    [\"ERC20\", \"0x81f8f0bb1cB2A06649E51913A151F0E7Ef6FA321\", 1000],\n",
    "    [\"ERC20\", \"0xab814ce69E15F6B9660A3B184c0B0C97B9394A6b\", 2000],\n",
    "    [\"ERC20\", \"0xA4fFdf3208F46898CE063e25c1C43056FA754739\", 3000],\n",
    "    [\"ERC20\", \"0xD101dCC414F310268c37eEb4cD376CcFA507F571\", 4000],\n",
    "    [\"ERC20\", \"0x761A3557184cbC07b7493da0661c41177b2f97fA\", 5000],\n",
    "    [\"ERC20\", \"0xf4308b0263723b121056938c2172868E408079D0\", 6000],\n",
    "    [\"ERC20\", \"0xF9Ca9523E5b5A42C3018C62B084Db8543478C400\", 7000],\n",
    "    [\"ERC20\", \"0x9Ce115f0341ae5daBC8B477b74E83db2018A6f42\", 8000],\n",
    "    [\"ERC20\", \"0xDd66781D0E9a08D4FBb5eC7BAc80B691BE27F21D\", 9000],\n",
    "    [\"ERC20\", \"0x88b9f5c66342eBaf661b3E2836B807C8cb1B3195\", 9999],\n",
    "    [\"ERC20\", \"0x1E762e1FAc176bbB341656035daf5601b1C69Be5\", 10000],\n",
    "    [\"ERC721\", \"0xcaD88677CA87a7815728C72D74B4ff4982d54Fc1\", 44],\n",
    "]"
   ]
  },
  {
   "cell_type": "code",
   "execution_count": 20,
   "metadata": {},
   "outputs": [
    {
     "data": {
      "text/plain": [
       "[('0x81f8f0bb1cB2A06649E51913A151F0E7Ef6FA321', 1000),\n",
       " ('0xab814ce69E15F6B9660A3B184c0B0C97B9394A6b', 2000),\n",
       " ('0xA4fFdf3208F46898CE063e25c1C43056FA754739', 3000),\n",
       " ('0xD101dCC414F310268c37eEb4cD376CcFA507F571', 4000),\n",
       " ('0x761A3557184cbC07b7493da0661c41177b2f97fA', 5000),\n",
       " ('0xf4308b0263723b121056938c2172868E408079D0', 6000),\n",
       " ('0xF9Ca9523E5b5A42C3018C62B084Db8543478C400', 7000),\n",
       " ('0x9Ce115f0341ae5daBC8B477b74E83db2018A6f42', 8000),\n",
       " ('0xDd66781D0E9a08D4FBb5eC7BAc80B691BE27F21D', 9000),\n",
       " ('0x88b9f5c66342eBaf661b3E2836B807C8cb1B3195', 9999),\n",
       " ('0x1E762e1FAc176bbB341656035daf5601b1C69Be5', 10000)]"
      ]
     },
     "execution_count": 20,
     "metadata": {},
     "output_type": "execute_result"
    }
   ],
   "source": [
    "# Filter ERC20 tokens\n",
    "erc20_tokens = [(token[1], token[2]) for token in tokens_data if token[0] == \"ERC20\"]\n",
    "erc20_tokens"
   ]
  },
  {
   "cell_type": "code",
   "execution_count": 21,
   "metadata": {},
   "outputs": [],
   "source": [
    "# Split token data into addresses and amounts for bundling\n",
    "erc20_addresses = [token[0] for token in erc20_tokens]\n",
    "erc20_amounts = [token[1] for token in erc20_tokens]"
   ]
  },
  {
   "cell_type": "code",
   "execution_count": 22,
   "metadata": {},
   "outputs": [
    {
     "name": "stdout",
     "output_type": "stream",
     "text": [
      "Gas cost for bundled transactions: 737912\n"
     ]
    }
   ],
   "source": [
    "# Bundling transactions\n",
    "try:\n",
    "    _, gas_bundle = apiars.bundle.make_buy_statement(\n",
    "        [\n",
    "            \"0x81f8f0bb1cB2A06649E51913A151F0E7Ef6FA321\",\n",
    "            \"0xab814ce69E15F6B9660A3B184c0B0C97B9394A6b\",\n",
    "        ],\n",
    "        [10, 20],\n",
    "        [],\n",
    "        [],\n",
    "        \"tmp\",\n",
    "        priv_key,\n",
    "    )\n",
    "    print(f\"Gas cost for bundled transactions: {gas_bundle}\")\n",
    "except RuntimeError as e:\n",
    "    print(f\"Error during bundling transaction: {e}\")"
   ]
  },
  {
   "cell_type": "code",
   "execution_count": 25,
   "metadata": {},
   "outputs": [
    {
     "name": "stdout",
     "output_type": "stream",
     "text": [
      "0xf13852905a3bc6cb0d51867ad5a91bf3e9f328c034036d3e60c49e5ad28696e9\n"
     ]
    }
   ],
   "source": [
    "result = apiars.erc20.make_buy_statement(\n",
    "    \"0x81f8f0bb1cB2A06649E51913A151F0E7Ef6FA321\",\n",
    "    1000,\n",
    "    \"tmp\",\n",
    "    priv_key,\n",
    ")\n",
    "print(result)\n",
    "\n",
    "# is only returning one value, the uid"
   ]
  },
  {
   "cell_type": "code",
   "execution_count": 16,
   "metadata": {},
   "outputs": [
    {
     "ename": "ValueError",
     "evalue": "too many values to unpack (expected 2)",
     "output_type": "error",
     "traceback": [
      "\u001b[0;31m---------------------------------------------------------------------------\u001b[0m",
      "\u001b[0;31mValueError\u001b[0m                                Traceback (most recent call last)",
      "Cell \u001b[0;32mIn[16], line 5\u001b[0m\n\u001b[1;32m      2\u001b[0m gas_individual \u001b[38;5;241m=\u001b[39m \u001b[38;5;241m0\u001b[39m\n\u001b[1;32m      4\u001b[0m \u001b[38;5;28;01mfor\u001b[39;00m token_address, amount \u001b[38;5;129;01min\u001b[39;00m erc20_tokens:\n\u001b[0;32m----> 5\u001b[0m     _, gas_local \u001b[38;5;241m=\u001b[39m apiars\u001b[38;5;241m.\u001b[39merc20\u001b[38;5;241m.\u001b[39mmake_buy_statement(\n\u001b[1;32m      6\u001b[0m         token_address,\n\u001b[1;32m      7\u001b[0m         amount,\n\u001b[1;32m      8\u001b[0m         \u001b[38;5;124m\"\u001b[39m\u001b[38;5;124mtmp\u001b[39m\u001b[38;5;124m\"\u001b[39m,\n\u001b[1;32m      9\u001b[0m         priv_key,\n\u001b[1;32m     10\u001b[0m     )\n\u001b[1;32m     11\u001b[0m     gas_individual \u001b[38;5;241m+\u001b[39m\u001b[38;5;241m=\u001b[39m gas_local\n\u001b[1;32m     13\u001b[0m \u001b[38;5;28mprint\u001b[39m(\u001b[38;5;124mf\u001b[39m\u001b[38;5;124m\"\u001b[39m\u001b[38;5;124mGas cost for individual ERC20 transactions: \u001b[39m\u001b[38;5;132;01m{\u001b[39;00mgas_individual\u001b[38;5;132;01m}\u001b[39;00m\u001b[38;5;124m\"\u001b[39m)\n",
      "\u001b[0;31mValueError\u001b[0m: too many values to unpack (expected 2)"
     ]
    }
   ],
   "source": [
    "# Gas cost for individual ERC20 transactions\n",
    "gas_individual = 0\n",
    "\n",
    "for token_address, amount in erc20_tokens:\n",
    "    _, gas_local = apiars.erc20.make_buy_statement(\n",
    "        token_address,\n",
    "        amount,\n",
    "        \"tmp\",\n",
    "        priv_key,\n",
    "    )\n",
    "    gas_individual += gas_local\n",
    "\n",
    "print(f\"Gas cost for individual ERC20 transactions: {gas_individual}\")"
   ]
  },
  {
   "cell_type": "code",
   "execution_count": null,
   "metadata": {},
   "outputs": [],
   "source": [
    "print(\"Gas cost comparison:\")\n",
    "print(f\"  Bundling: {gas_bundle}\")\n",
    "print(f\"  Individual: {gas_individual}\")\n",
    "print(f\"  Savings: {gas_individual - gas_bundle}\")"
   ]
  }
 ],
 "metadata": {
  "kernelspec": {
   "display_name": ".venv",
   "language": "python",
   "name": "python3"
  },
  "language_info": {
   "codemirror_mode": {
    "name": "ipython",
    "version": 3
   },
   "file_extension": ".py",
   "mimetype": "text/x-python",
   "name": "python",
   "nbconvert_exporter": "python",
   "pygments_lexer": "ipython3",
   "version": "3.13.0"
  }
 },
 "nbformat": 4,
 "nbformat_minor": 2
}
