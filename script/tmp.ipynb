{
 "cells": [
  {
   "cell_type": "code",
   "execution_count": 1,
   "metadata": {},
   "outputs": [],
   "source": [
    "from apiary import apiars"
   ]
  },
  {
   "cell_type": "code",
   "execution_count": 2,
   "metadata": {},
   "outputs": [],
   "source": [
    "priv_key = \"0202ea5001ba9d11e8fecb4a3a943fbaa4a1068821e35533bd2161e76d333811\""
   ]
  },
  {
   "cell_type": "code",
   "execution_count": 3,
   "metadata": {},
   "outputs": [],
   "source": [
    "# gas = 0\n",
    "# for token in token_list:\n",
    "#     _, gas_local = apiars.erc20.make_buy_statement(\n",
    "#                 [\"0x81f8f0bb1cB2A06649E51913A151F0E7Ef6FA321\", \"0xab814ce69E15F6B9660A3B184c0B0C97B9394A6b\"],\n",
    "#                 [10, 20],\n",
    "#                 [],\n",
    "#                 [],\n",
    "#                 \"tmp\",\n",
    "#                 priv_key,\n",
    "#             )\n",
    "#     gas += gas_local"
   ]
  },
  {
   "cell_type": "code",
   "execution_count": 4,
   "metadata": {},
   "outputs": [],
   "source": [
    "_, gas = apiars.bundle.make_buy_statement(\n",
    "    [\n",
    "        \"0x81f8f0bb1cB2A06649E51913A151F0E7Ef6FA321\",\n",
    "        \"0xab814ce69E15F6B9660A3B184c0B0C97B9394A6b\",\n",
    "    ],\n",
    "    [10, 20],\n",
    "    [],\n",
    "    [],\n",
    "    \"tmp\",\n",
    "    priv_key,\n",
    ")"
   ]
  },
  {
   "cell_type": "code",
   "execution_count": 5,
   "metadata": {},
   "outputs": [
    {
     "data": {
      "text/plain": [
       "737912"
      ]
     },
     "execution_count": 5,
     "metadata": {},
     "output_type": "execute_result"
    }
   ],
   "source": [
    "gas"
   ]
  },
  {
   "cell_type": "code",
   "execution_count": 6,
   "metadata": {},
   "outputs": [
    {
     "data": {
      "text/plain": [
       "737912"
      ]
     },
     "execution_count": 6,
     "metadata": {},
     "output_type": "execute_result"
    }
   ],
   "source": [
    "gas"
   ]
  },
  {
   "cell_type": "code",
   "execution_count": null,
   "metadata": {},
   "outputs": [],
   "source": []
  }
 ],
 "metadata": {
  "kernelspec": {
   "display_name": ".venv",
   "language": "python",
   "name": "python3"
  },
  "language_info": {
   "codemirror_mode": {
    "name": "ipython",
    "version": 3
   },
   "file_extension": ".py",
   "mimetype": "text/x-python",
   "name": "python",
   "nbconvert_exporter": "python",
   "pygments_lexer": "ipython3",
   "version": "3.13.0"
  }
 },
 "nbformat": 4,
 "nbformat_minor": 2
}
