{
 "cells": [
  {
   "cell_type": "code",
   "execution_count": 1,
   "metadata": {},
   "outputs": [],
   "source": [
    "from apiary import apiars\n",
    "from dotenv import load_dotenv\n",
    "import os\n",
    "\n",
    "token = \"0x036CbD53842c5426634e7929541eC2318f3dCF7e\"\n",
    "amount = 4\n",
    "query_uid = \"bafkreihy4ldvgswp223sirjii2lck4pfvis3aswy65y2xyquudxvwakldy\"\n",
    "private_key = \"0202ea5001ba9d11e8fecb4a3a943fbaa4a1068821e35533bd2161e76d333811\""
   ]
  },
  {
   "cell_type": "code",
   "execution_count": 2,
   "metadata": {},
   "outputs": [
    {
     "data": {
      "text/plain": [
       "'0x634f8007f17C9fa50c75025c3D8728258DDb4af0'"
      ]
     },
     "execution_count": 2,
     "metadata": {},
     "output_type": "execute_result"
    }
   ],
   "source": [
    "load_dotenv()\n",
    "os.getenv(\"ERC20_PAYMENT_STATEMENT\")"
   ]
  },
  {
   "cell_type": "code",
   "execution_count": 3,
   "metadata": {},
   "outputs": [
    {
     "data": {
      "text/plain": [
       "'HelloWorld'"
      ]
     },
     "execution_count": 3,
     "metadata": {},
     "output_type": "execute_result"
    }
   ],
   "source": [
    "await apiars.helloworld()"
   ]
  },
  {
   "cell_type": "code",
   "execution_count": 4,
   "metadata": {},
   "outputs": [
    {
     "name": "stdout",
     "output_type": "stream",
     "text": [
      "privkey: 0202ea5001ba9d11e8fecb4a3a943fbaa4a1068821e35533bd2161e76d333811\n",
      "pubkey: 0x002189E2F82ac8FBF19e2Dc279d19E07eCE12cfb\n"
     ]
    },
    {
     "ename": "RuntimeError",
     "evalue": "contract call to make payment statement failed",
     "output_type": "error",
     "traceback": [
      "\u001b[0;31m---------------------------------------------------------------------------\u001b[0m",
      "\u001b[0;31mRuntimeError\u001b[0m                              Traceback (most recent call last)",
      "Cell \u001b[0;32mIn[4], line 1\u001b[0m\n\u001b[0;32m----> 1\u001b[0m \u001b[38;5;28;01mawait\u001b[39;00m \u001b[43mapiars\u001b[49m\u001b[38;5;241;43m.\u001b[39;49m\u001b[43mmake_buy_statement\u001b[49m\u001b[43m(\u001b[49m\u001b[43mtoken\u001b[49m\u001b[43m,\u001b[49m\u001b[43m \u001b[49m\u001b[43mamount\u001b[49m\u001b[43m,\u001b[49m\u001b[43m \u001b[49m\u001b[43mquery_uid\u001b[49m\u001b[43m,\u001b[49m\u001b[43m \u001b[49m\u001b[43mprivate_key\u001b[49m\u001b[43m)\u001b[49m\n",
      "\u001b[0;31mRuntimeError\u001b[0m: contract call to make payment statement failed"
     ]
    }
   ],
   "source": [
    "await apiars.make_buy_statement(token, amount, query_uid, private_key)"
   ]
  },
  {
   "cell_type": "code",
   "execution_count": null,
   "metadata": {},
   "outputs": [],
   "source": []
  }
 ],
 "metadata": {
  "kernelspec": {
   "display_name": ".venv",
   "language": "python",
   "name": "python3"
  },
  "language_info": {
   "codemirror_mode": {
    "name": "ipython",
    "version": 3
   },
   "file_extension": ".py",
   "mimetype": "text/x-python",
   "name": "python",
   "nbconvert_exporter": "python",
   "pygments_lexer": "ipython3",
   "version": "3.12.6"
  }
 },
 "nbformat": 4,
 "nbformat_minor": 2
}
